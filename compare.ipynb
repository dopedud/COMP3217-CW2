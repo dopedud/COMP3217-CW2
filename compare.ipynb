{
 "cells": [
  {
   "cell_type": "code",
   "execution_count": null,
   "metadata": {},
   "outputs": [],
   "source": [
    "import numpy as py\n",
    "import pandas as pd\n",
    "\n",
    "abeed_binary_csv = 'TestingResultsBinary.csv'\n",
    "abeed_multi_csv = 'TestingResultsMulti.csv'\n",
    "jimi_binary_csv = 'jimi_binary.csv'\n",
    "abeed_multi_csv = 'jimi_multi.csv'"
   ]
  }
 ],
 "metadata": {
  "kernelspec": {
   "display_name": "venv",
   "language": "python",
   "name": "python3"
  },
  "language_info": {
   "name": "python",
   "version": "3.9.13"
  }
 },
 "nbformat": 4,
 "nbformat_minor": 2
}

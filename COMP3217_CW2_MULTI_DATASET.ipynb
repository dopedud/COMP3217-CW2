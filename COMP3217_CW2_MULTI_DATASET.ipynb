{
  "cells": [
    {
      "cell_type": "markdown",
      "metadata": {
        "id": "view-in-github"
      },
      "source": [
        "<a href=\"https://colab.research.google.com/github/dopedud/COMP3217-CW2/blob/main/source_code.ipynb\" target=\"_parent\"><img src=\"https://colab.research.google.com/assets/colab-badge.svg\" alt=\"Open In Colab\"/></a>"
      ]
    },
    {
      "cell_type": "markdown",
      "metadata": {
        "id": "bQOImgj1mXFp"
      },
      "source": [
        "# COMP3217 COURSEWORK 2"
      ]
    },
    {
      "cell_type": "markdown",
      "metadata": {
        "id": "EbMlqKTJO9zc"
      },
      "source": [
        "## Import Modules"
      ]
    },
    {
      "cell_type": "code",
      "execution_count": 25,
      "metadata": {
        "id": "QwT8fuKnl0Jk"
      },
      "outputs": [],
      "source": [
        "import numpy as np\n",
        "import pandas as pd"
      ]
    },
    {
      "cell_type": "markdown",
      "metadata": {
        "id": "oLReFIvVO9zd"
      },
      "source": [
        "### Upload and Read Files"
      ]
    },
    {
      "cell_type": "code",
      "execution_count": 26,
      "metadata": {
        "colab": {
          "base_uri": "https://localhost:8080/",
          "height": 0
        },
        "id": "yyC0y3AKpFEh",
        "outputId": "119292c2-d291-4830-f158-845fe56eaf2d"
      },
      "outputs": [],
      "source": [
        "# from google.colab import files\n",
        "# uploaded = files.upload()\n",
        "\n",
        "# read from uploaded files\n",
        "multi_dataset_training = pd.read_csv('TrainingDataMulti.csv')\n",
        "multi_X_testing = pd.read_csv('TestingDataMulti.csv')"
      ]
    },
    {
      "cell_type": "markdown",
      "metadata": {
        "id": "tiBMx8_3OK3u"
      },
      "source": [
        "## Data Pre-processing"
      ]
    },
    {
      "cell_type": "markdown",
      "metadata": {
        "id": "4AHkp5QTOoNG"
      },
      "source": [
        "### Separate Features and Labels"
      ]
    },
    {
      "cell_type": "code",
      "execution_count": 27,
      "metadata": {
        "id": "-wmc872bO9ze"
      },
      "outputs": [],
      "source": [
        "from sklearn.model_selection import train_test_split\n",
        "from sklearn.preprocessing import StandardScaler\n",
        "\n",
        "# split dataset to X training and Y training\n",
        "multi_X_training = multi_dataset_training.iloc[:, :-1]\n",
        "multi_Y_training = multi_dataset_training.iloc[:, -1]"
      ]
    },
    {
      "cell_type": "markdown",
      "metadata": {
        "id": "w0hT4cmiOdkP"
      },
      "source": [
        "### Data Composition"
      ]
    },
    {
      "cell_type": "code",
      "execution_count": 28,
      "metadata": {
        "colab": {
          "base_uri": "https://localhost:8080/"
        },
        "id": "GGuZEivsN2h7",
        "outputId": "b8486da8-e35b-4fde-ab20-ab59b1238834"
      },
      "outputs": [
        {
          "name": "stdout",
          "output_type": "stream",
          "text": [
            "<class 'pandas.core.frame.DataFrame'>\n",
            "RangeIndex: 6000 entries, 0 to 5999\n",
            "Columns: 129 entries, R1-PA1:VH to marker\n",
            "dtypes: float64(129)\n",
            "memory usage: 5.9 MB\n"
          ]
        }
      ],
      "source": [
        "multi_dataset_training.info()"
      ]
    },
    {
      "cell_type": "code",
      "execution_count": 29,
      "metadata": {
        "colab": {
          "base_uri": "https://localhost:8080/",
          "height": 349
        },
        "id": "C2uc7o0mO9ze",
        "outputId": "844d81a7-e32a-4459-c9a7-07f730364c4d"
      },
      "outputs": [
        {
          "data": {
            "text/html": [
              "<div>\n",
              "<style scoped>\n",
              "    .dataframe tbody tr th:only-of-type {\n",
              "        vertical-align: middle;\n",
              "    }\n",
              "\n",
              "    .dataframe tbody tr th {\n",
              "        vertical-align: top;\n",
              "    }\n",
              "\n",
              "    .dataframe thead th {\n",
              "        text-align: right;\n",
              "    }\n",
              "</style>\n",
              "<table border=\"1\" class=\"dataframe\">\n",
              "  <thead>\n",
              "    <tr style=\"text-align: right;\">\n",
              "      <th></th>\n",
              "      <th>R1-PA1:VH</th>\n",
              "      <th>R1-PM1:V</th>\n",
              "      <th>R1-PA2:VH</th>\n",
              "      <th>R1-PM2:V</th>\n",
              "      <th>R1-PA3:VH</th>\n",
              "      <th>R1-PM3:V</th>\n",
              "      <th>R1-PA4:IH</th>\n",
              "      <th>R1-PM4:I</th>\n",
              "      <th>R1-PA5:IH</th>\n",
              "      <th>R1-PM5:I</th>\n",
              "      <th>...</th>\n",
              "      <th>control_panel_log4</th>\n",
              "      <th>relay1_log</th>\n",
              "      <th>relay2_log</th>\n",
              "      <th>relay3_log</th>\n",
              "      <th>relay4_log</th>\n",
              "      <th>snort_log1</th>\n",
              "      <th>snort_log2</th>\n",
              "      <th>snort_log3</th>\n",
              "      <th>snort_log4</th>\n",
              "      <th>marker</th>\n",
              "    </tr>\n",
              "  </thead>\n",
              "  <tbody>\n",
              "    <tr>\n",
              "      <th>count</th>\n",
              "      <td>6000.000000</td>\n",
              "      <td>6000.000000</td>\n",
              "      <td>6000.000000</td>\n",
              "      <td>6000.000000</td>\n",
              "      <td>6000.000000</td>\n",
              "      <td>6000.000000</td>\n",
              "      <td>6000.000000</td>\n",
              "      <td>6000.000000</td>\n",
              "      <td>6000.000000</td>\n",
              "      <td>6000.000000</td>\n",
              "      <td>...</td>\n",
              "      <td>6000.0</td>\n",
              "      <td>6000.00000</td>\n",
              "      <td>6000.000000</td>\n",
              "      <td>6000.000000</td>\n",
              "      <td>6000.000000</td>\n",
              "      <td>6000.0</td>\n",
              "      <td>6000.0</td>\n",
              "      <td>6000.0</td>\n",
              "      <td>6000.0</td>\n",
              "      <td>6000.000000</td>\n",
              "    </tr>\n",
              "    <tr>\n",
              "      <th>mean</th>\n",
              "      <td>-19.882452</td>\n",
              "      <td>131378.347644</td>\n",
              "      <td>0.390396</td>\n",
              "      <td>131334.160186</td>\n",
              "      <td>2.848884</td>\n",
              "      <td>131662.268996</td>\n",
              "      <td>-20.667140</td>\n",
              "      <td>387.243103</td>\n",
              "      <td>-0.465448</td>\n",
              "      <td>387.995655</td>\n",
              "      <td>...</td>\n",
              "      <td>0.0</td>\n",
              "      <td>0.00100</td>\n",
              "      <td>0.001333</td>\n",
              "      <td>0.001167</td>\n",
              "      <td>0.001167</td>\n",
              "      <td>0.0</td>\n",
              "      <td>0.0</td>\n",
              "      <td>0.0</td>\n",
              "      <td>0.0</td>\n",
              "      <td>1.000000</td>\n",
              "    </tr>\n",
              "    <tr>\n",
              "      <th>std</th>\n",
              "      <td>100.297669</td>\n",
              "      <td>4818.458692</td>\n",
              "      <td>109.627647</td>\n",
              "      <td>2196.621540</td>\n",
              "      <td>99.307736</td>\n",
              "      <td>2292.258124</td>\n",
              "      <td>100.209885</td>\n",
              "      <td>113.079580</td>\n",
              "      <td>109.531209</td>\n",
              "      <td>83.530242</td>\n",
              "      <td>...</td>\n",
              "      <td>0.0</td>\n",
              "      <td>0.03161</td>\n",
              "      <td>0.036494</td>\n",
              "      <td>0.034139</td>\n",
              "      <td>0.034139</td>\n",
              "      <td>0.0</td>\n",
              "      <td>0.0</td>\n",
              "      <td>0.0</td>\n",
              "      <td>0.0</td>\n",
              "      <td>0.816565</td>\n",
              "    </tr>\n",
              "    <tr>\n",
              "      <th>min</th>\n",
              "      <td>-179.971773</td>\n",
              "      <td>30238.363620</td>\n",
              "      <td>-179.845722</td>\n",
              "      <td>34651.259140</td>\n",
              "      <td>-179.857182</td>\n",
              "      <td>29436.018980</td>\n",
              "      <td>-179.725401</td>\n",
              "      <td>0.000000</td>\n",
              "      <td>-179.994691</td>\n",
              "      <td>4.211530</td>\n",
              "      <td>...</td>\n",
              "      <td>0.0</td>\n",
              "      <td>0.00000</td>\n",
              "      <td>0.000000</td>\n",
              "      <td>0.000000</td>\n",
              "      <td>0.000000</td>\n",
              "      <td>0.0</td>\n",
              "      <td>0.0</td>\n",
              "      <td>0.0</td>\n",
              "      <td>0.0</td>\n",
              "      <td>0.000000</td>\n",
              "    </tr>\n",
              "    <tr>\n",
              "      <th>25%</th>\n",
              "      <td>-109.926250</td>\n",
              "      <td>131158.275400</td>\n",
              "      <td>-103.547798</td>\n",
              "      <td>130807.249600</td>\n",
              "      <td>-68.005793</td>\n",
              "      <td>131208.421900</td>\n",
              "      <td>-111.825605</td>\n",
              "      <td>317.695850</td>\n",
              "      <td>-103.675281</td>\n",
              "      <td>322.273600</td>\n",
              "      <td>...</td>\n",
              "      <td>0.0</td>\n",
              "      <td>0.00000</td>\n",
              "      <td>0.000000</td>\n",
              "      <td>0.000000</td>\n",
              "      <td>0.000000</td>\n",
              "      <td>0.0</td>\n",
              "      <td>0.0</td>\n",
              "      <td>0.0</td>\n",
              "      <td>0.0</td>\n",
              "      <td>0.000000</td>\n",
              "    </tr>\n",
              "    <tr>\n",
              "      <th>50%</th>\n",
              "      <td>-30.461301</td>\n",
              "      <td>131659.740800</td>\n",
              "      <td>1.930868</td>\n",
              "      <td>131383.934800</td>\n",
              "      <td>3.878925</td>\n",
              "      <td>131734.960600</td>\n",
              "      <td>-31.804887</td>\n",
              "      <td>384.439445</td>\n",
              "      <td>-0.429719</td>\n",
              "      <td>390.207410</td>\n",
              "      <td>...</td>\n",
              "      <td>0.0</td>\n",
              "      <td>0.00000</td>\n",
              "      <td>0.000000</td>\n",
              "      <td>0.000000</td>\n",
              "      <td>0.000000</td>\n",
              "      <td>0.0</td>\n",
              "      <td>0.0</td>\n",
              "      <td>0.0</td>\n",
              "      <td>0.0</td>\n",
              "      <td>1.000000</td>\n",
              "    </tr>\n",
              "    <tr>\n",
              "      <th>75%</th>\n",
              "      <td>64.825877</td>\n",
              "      <td>132136.132900</td>\n",
              "      <td>101.287479</td>\n",
              "      <td>131910.473500</td>\n",
              "      <td>85.744566</td>\n",
              "      <td>132186.279400</td>\n",
              "      <td>62.780418</td>\n",
              "      <td>449.901270</td>\n",
              "      <td>99.551417</td>\n",
              "      <td>453.563470</td>\n",
              "      <td>...</td>\n",
              "      <td>0.0</td>\n",
              "      <td>0.00000</td>\n",
              "      <td>0.000000</td>\n",
              "      <td>0.000000</td>\n",
              "      <td>0.000000</td>\n",
              "      <td>0.0</td>\n",
              "      <td>0.0</td>\n",
              "      <td>0.0</td>\n",
              "      <td>0.0</td>\n",
              "      <td>2.000000</td>\n",
              "    </tr>\n",
              "    <tr>\n",
              "      <th>max</th>\n",
              "      <td>179.943125</td>\n",
              "      <td>141638.902200</td>\n",
              "      <td>179.542055</td>\n",
              "      <td>140936.850700</td>\n",
              "      <td>179.960314</td>\n",
              "      <td>141714.122000</td>\n",
              "      <td>179.788427</td>\n",
              "      <td>1760.236430</td>\n",
              "      <td>179.988962</td>\n",
              "      <td>905.845170</td>\n",
              "      <td>...</td>\n",
              "      <td>0.0</td>\n",
              "      <td>1.00000</td>\n",
              "      <td>1.000000</td>\n",
              "      <td>1.000000</td>\n",
              "      <td>1.000000</td>\n",
              "      <td>0.0</td>\n",
              "      <td>0.0</td>\n",
              "      <td>0.0</td>\n",
              "      <td>0.0</td>\n",
              "      <td>2.000000</td>\n",
              "    </tr>\n",
              "  </tbody>\n",
              "</table>\n",
              "<p>8 rows × 129 columns</p>\n",
              "</div>"
            ],
            "text/plain": [
              "         R1-PA1:VH       R1-PM1:V    R1-PA2:VH       R1-PM2:V    R1-PA3:VH  \\\n",
              "count  6000.000000    6000.000000  6000.000000    6000.000000  6000.000000   \n",
              "mean    -19.882452  131378.347644     0.390396  131334.160186     2.848884   \n",
              "std     100.297669    4818.458692   109.627647    2196.621540    99.307736   \n",
              "min    -179.971773   30238.363620  -179.845722   34651.259140  -179.857182   \n",
              "25%    -109.926250  131158.275400  -103.547798  130807.249600   -68.005793   \n",
              "50%     -30.461301  131659.740800     1.930868  131383.934800     3.878925   \n",
              "75%      64.825877  132136.132900   101.287479  131910.473500    85.744566   \n",
              "max     179.943125  141638.902200   179.542055  140936.850700   179.960314   \n",
              "\n",
              "            R1-PM3:V    R1-PA4:IH     R1-PM4:I    R1-PA5:IH     R1-PM5:I  ...  \\\n",
              "count    6000.000000  6000.000000  6000.000000  6000.000000  6000.000000  ...   \n",
              "mean   131662.268996   -20.667140   387.243103    -0.465448   387.995655  ...   \n",
              "std      2292.258124   100.209885   113.079580   109.531209    83.530242  ...   \n",
              "min     29436.018980  -179.725401     0.000000  -179.994691     4.211530  ...   \n",
              "25%    131208.421900  -111.825605   317.695850  -103.675281   322.273600  ...   \n",
              "50%    131734.960600   -31.804887   384.439445    -0.429719   390.207410  ...   \n",
              "75%    132186.279400    62.780418   449.901270    99.551417   453.563470  ...   \n",
              "max    141714.122000   179.788427  1760.236430   179.988962   905.845170  ...   \n",
              "\n",
              "       control_panel_log4  relay1_log   relay2_log   relay3_log   relay4_log  \\\n",
              "count              6000.0  6000.00000  6000.000000  6000.000000  6000.000000   \n",
              "mean                  0.0     0.00100     0.001333     0.001167     0.001167   \n",
              "std                   0.0     0.03161     0.036494     0.034139     0.034139   \n",
              "min                   0.0     0.00000     0.000000     0.000000     0.000000   \n",
              "25%                   0.0     0.00000     0.000000     0.000000     0.000000   \n",
              "50%                   0.0     0.00000     0.000000     0.000000     0.000000   \n",
              "75%                   0.0     0.00000     0.000000     0.000000     0.000000   \n",
              "max                   0.0     1.00000     1.000000     1.000000     1.000000   \n",
              "\n",
              "       snort_log1  snort_log2  snort_log3  snort_log4       marker  \n",
              "count      6000.0      6000.0      6000.0      6000.0  6000.000000  \n",
              "mean          0.0         0.0         0.0         0.0     1.000000  \n",
              "std           0.0         0.0         0.0         0.0     0.816565  \n",
              "min           0.0         0.0         0.0         0.0     0.000000  \n",
              "25%           0.0         0.0         0.0         0.0     0.000000  \n",
              "50%           0.0         0.0         0.0         0.0     1.000000  \n",
              "75%           0.0         0.0         0.0         0.0     2.000000  \n",
              "max           0.0         0.0         0.0         0.0     2.000000  \n",
              "\n",
              "[8 rows x 129 columns]"
            ]
          },
          "execution_count": 29,
          "metadata": {},
          "output_type": "execute_result"
        }
      ],
      "source": [
        "multi_dataset_training.describe()"
      ]
    },
    {
      "cell_type": "code",
      "execution_count": 30,
      "metadata": {
        "colab": {
          "base_uri": "https://localhost:8080/",
          "height": 515
        },
        "id": "W6SUl2VsOjpK",
        "outputId": "46de9991-280b-41a0-df02-fccdc1ed7264"
      },
      "outputs": [
        {
          "name": "stdout",
          "output_type": "stream",
          "text": [
            "marker\n",
            "0.0    2000\n",
            "2.0    2000\n",
            "1.0    2000\n",
            "Name: count, dtype: int64\n"
          ]
        },
        {
          "data": {
            "text/plain": [
              "<Axes: >"
            ]
          },
          "execution_count": 30,
          "metadata": {},
          "output_type": "execute_result"
        },
        {
          "data": {
            "image/png": "[encoded data removed]",
            "text/plain": [
              "<Figure size 640x480 with 1 Axes>"
            ]
          },
          "metadata": {},
          "output_type": "display_data"
        }
      ],
      "source": [
        "print(multi_Y_training.value_counts())\n",
        "\n",
        "multi_Y_training.value_counts().plot(kind = 'pie', title = '', ylabel = '', autopct = '%1.1f%%', colors = ['#66b3ff','#99ff99', '#fcad27'])"
      ]
    },
    {
      "cell_type": "markdown",
      "metadata": {
        "id": "P-F8ahVEOxjr"
      },
      "source": [
        "### Standardising Data"
      ]
    },
    {
      "cell_type": "code",
      "execution_count": 31,
      "metadata": {
        "id": "w8FBAle7OwYZ"
      },
      "outputs": [],
      "source": [
        "# scale data on training set, then transform dataset from training set and testing set\n",
        "scaler = StandardScaler()\n",
        "multi_X_training = scaler.fit_transform(multi_X_training)\n",
        "multi_X_training = pd.DataFrame(multi_X_training)\n",
        "multi_X_testing = scaler.transform(multi_X_testing)\n",
        "multi_X_testing = pd.DataFrame(multi_X_testing)"
      ]
    },
    {
      "cell_type": "markdown",
      "metadata": {
        "id": "kc6Vk68nPBaY"
      },
      "source": [
        "### Setup Validation Set"
      ]
    },
    {
      "cell_type": "code",
      "execution_count": 32,
      "metadata": {
        "id": "S9OXCM4ePEI8"
      },
      "outputs": [],
      "source": [
        "# further split dataset to training set and validation set\n",
        "multi_X_training, multi_X_validation, multi_Y_training, multi_Y_validation = train_test_split(\n",
        "    multi_X_training, multi_Y_training, test_size = .2, random_state = 42\n",
        ")"
      ]
    },
    {
      "cell_type": "markdown",
      "metadata": {
        "id": "kcFSZdtCO9ze"
      },
      "source": [
        "## ML Training"
      ]
    },
    {
      "cell_type": "code",
      "execution_count": 33,
      "metadata": {
        "colab": {
          "base_uri": "https://localhost:8080/"
        },
        "id": "debBXySZO9ze",
        "outputId": "1922d2ee-aac0-443d-f190-d7d3be04c224"
      },
      "outputs": [
        {
          "name": "stdout",
          "output_type": "stream",
          "text": [
            "Fitting 10 folds for each of 36 candidates, totalling 360 fits\n",
            "Best hyperparameters:  {'criterion': 'entropy', 'min_samples_split': 2, 'n_estimators': 50}\n"
          ]
        }
      ],
      "source": [
        "from sklearn.model_selection import GridSearchCV\n",
        "\n",
        "from sklearn.ensemble import RandomForestClassifier\n",
        "\n",
        "# EDIT PARAMETERS HERE\n",
        "parameter_grid_multi = {\n",
        "    'n_estimators'      : [50, 100, 150, 200],\n",
        "    'criterion'         : ['gini', 'entropy', 'log_loss'],\n",
        "    'min_samples_split' : [2, 5, 10]\n",
        "}\n",
        "\n",
        "grid_search_multi = GridSearchCV(estimator = RandomForestClassifier(random_state = 42), param_grid = parameter_grid_multi, scoring = 'f1_macro', cv = 10, n_jobs = 3, verbose = 2)\n",
        "grid_search_multi.fit(multi_X_training, multi_Y_training)\n",
        "\n",
        "print(\"Best hyperparameters: \", grid_search_multi.best_params_)"
      ]
    },
    {
      "cell_type": "markdown",
      "metadata": {
        "id": "VYuY0XBhO9zf"
      },
      "source": [
        "## Training Evaluation"
      ]
    },
    {
      "cell_type": "code",
      "execution_count": 34,
      "metadata": {
        "id": "kSLQDVQhO9zf"
      },
      "outputs": [
        {
          "data": {
            "image/png": "[encoded data removed]",
            "text/plain": [
              "<Figure size 640x480 with 2 Axes>"
            ]
          },
          "metadata": {},
          "output_type": "display_data"
        },
        {
          "name": "stdout",
          "output_type": "stream",
          "text": [
            "\n",
            "Accuracy score: 1.000\n",
            "F1-score: 1.000\n",
            "\n",
            "Precision score: 1.000\n",
            "Recall score: 1.000\n",
            "\n",
            "                   precision    recall  f1-score   support\n",
            "\n",
            "           Normal       1.00      1.00      1.00      2000\n",
            "   Data Injection       1.00      1.00      1.00      2000\n",
            "Command Injection       1.00      1.00      1.00      2000\n",
            "\n",
            "         accuracy                           1.00      6000\n",
            "        macro avg       1.00      1.00      1.00      6000\n",
            "     weighted avg       1.00      1.00      1.00      6000\n",
            "\n",
            "\n"
          ]
        }
      ],
      "source": [
        "import matplotlib.pyplot as plt\n",
        "\n",
        "from sklearn.metrics import (\n",
        "    confusion_matrix,\n",
        "    ConfusionMatrixDisplay,\n",
        "    classification_report,\n",
        "    accuracy_score,\n",
        "    f1_score,\n",
        "    precision_score,\n",
        "    recall_score,\n",
        ")\n",
        "\n",
        "# method to print classification metrics as well as generate a confusion matrix\n",
        "# display from testing on validation set\n",
        "def print_metrics(Y_test, predicted, labels):\n",
        "    ConfusionMatrixDisplay(confusion_matrix(Y_test, predicted), display_labels = labels).plot()\n",
        "\n",
        "    plt.show()\n",
        "\n",
        "    print()\n",
        "\n",
        "    print(\"Accuracy score: %.3f\" % accuracy_score(Y_test, predicted))\n",
        "\n",
        "    if (len(labels) > 2):\n",
        "        print(\"F1-score: %.3f\" % f1_score(Y_test, predicted, average = 'macro'))\n",
        "\n",
        "        print()\n",
        "\n",
        "        print(\"Precision score: %.3f\" % precision_score(Y_test, predicted, average = 'macro'))\n",
        "        print(\"Recall score: %.3f\" % recall_score(Y_test, predicted, average = 'macro'))\n",
        "\n",
        "    else:\n",
        "        print(\"F1-score: %.3f\" % f1_score(Y_test, predicted))\n",
        "\n",
        "        print()\n",
        "\n",
        "        print(\"Precision score: %.3f\" % precision_score(Y_test, predicted))\n",
        "        print(\"Recall score: %.3f\" % recall_score(Y_test, predicted))\n",
        "\n",
        "    print()\n",
        "\n",
        "    print(classification_report(Y_test, predicted, target_names = labels))\n",
        "\n",
        "    print()\n",
        "\n",
        "print_metrics(multi_Y_training, grid_search_multi.predict(multi_X_training), ['Normal', 'Data Injection', 'Command Injection'])"
      ]
    },
    {
      "cell_type": "markdown",
      "metadata": {
        "id": "oBJXUgTVPUVo"
      },
      "source": [
        "## Output Test Set"
      ]
    },
    {
      "cell_type": "code",
      "execution_count": 35,
      "metadata": {
        "id": "8YFAEYtgO9zf"
      },
      "outputs": [],
      "source": [
        "# output prediction on test set\n",
        "output_data = pd.read_csv('TestingDataMulti.csv')\n",
        "multi_Y_testing = grid_search_multi.predict(multi_X_testing)\n",
        "output_data.join(pd.DataFrame(multi_Y_testing, columns = ['marker'])).to_csv('TestingResultsMulti.csv', index = False)"
      ]
    }
  ],
  "metadata": {
    "colab": {
      "collapsed_sections": [
        "EbMlqKTJO9zc",
        "tiBMx8_3OK3u"
      ],
      "provenance": []
    },
    "kernelspec": {
      "display_name": "Python 3",
      "name": "python3"
    },
    "language_info": {
      "codemirror_mode": {
        "name": "ipython",
        "version": 3
      },
      "file_extension": ".py",
      "mimetype": "text/x-python",
      "name": "python",
      "nbconvert_exporter": "python",
      "pygments_lexer": "ipython3",
      "version": "3.9.13"
    }
  },
  "nbformat": 4,
  "nbformat_minor": 0
}

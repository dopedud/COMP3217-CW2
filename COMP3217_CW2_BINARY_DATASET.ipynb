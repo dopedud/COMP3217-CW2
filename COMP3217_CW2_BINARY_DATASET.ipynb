{
  "cells": [
    {
      "cell_type": "markdown",
      "metadata": {
        "id": "view-in-github"
      },
      "source": [
        "<a href=\"https://colab.research.google.com/github/dopedud/COMP3217-CW2/blob/main/source_code.ipynb\" target=\"_parent\"><img src=\"https://colab.research.google.com/assets/colab-badge.svg\" alt=\"Open In Colab\"/></a>"
      ]
    },
    {
      "cell_type": "markdown",
      "metadata": {
        "id": "bQOImgj1mXFp"
      },
      "source": [
        "# COMP3217 COURSEWORK 2"
      ]
    },
    {
      "cell_type": "markdown",
      "metadata": {
        "id": "kubFUh6KKBRV"
      },
      "source": [
        "## Import Modules"
      ]
    },
    {
      "cell_type": "code",
      "execution_count": 25,
      "metadata": {
        "id": "QwT8fuKnl0Jk"
      },
      "outputs": [],
      "source": [
        "import numpy as np\n",
        "import pandas as pd"
      ]
    },
    {
      "cell_type": "markdown",
      "metadata": {
        "id": "WJ-2tBACKBRW"
      },
      "source": [
        "### Upload and Read Files"
      ]
    },
    {
      "cell_type": "code",
      "execution_count": 26,
      "metadata": {
        "colab": {
          "base_uri": "https://localhost:8080/",
          "height": 38
        },
        "id": "yyC0y3AKpFEh",
        "outputId": "5b1fd817-e85f-4990-ed9c-225996d26da5"
      },
      "outputs": [],
      "source": [
        "# from google.colab import files\n",
        "# uploaded = files.upload()\n",
        "\n",
        "# read from uploaded files\n",
        "binary_dataset_training = pd.read_csv('TrainingDataBinary.csv')\n",
        "binary_X_testing = pd.read_csv('TestingDataBinary.csv')"
      ]
    },
    {
      "cell_type": "markdown",
      "metadata": {
        "id": "OOZNwiTCLQmU"
      },
      "source": [
        "## Data Pre-processing"
      ]
    },
    {
      "cell_type": "markdown",
      "metadata": {
        "id": "-nybSvvbKBRX"
      },
      "source": [
        "### Separate Features and Labels"
      ]
    },
    {
      "cell_type": "code",
      "execution_count": 27,
      "metadata": {
        "id": "6A_w-2pNKBRX"
      },
      "outputs": [],
      "source": [
        "from sklearn.model_selection import train_test_split\n",
        "from sklearn.preprocessing import StandardScaler\n",
        "\n",
        "# split dataset to X training and Y training\n",
        "binary_X_training = binary_dataset_training.iloc[:, :-1]\n",
        "binary_Y_training = binary_dataset_training.iloc[:, -1]"
      ]
    },
    {
      "cell_type": "markdown",
      "metadata": {
        "id": "up5qHOB2KPBC"
      },
      "source": [
        "### Data Composition"
      ]
    },
    {
      "cell_type": "code",
      "execution_count": 28,
      "metadata": {
        "colab": {
          "base_uri": "https://localhost:8080/"
        },
        "id": "xDwa2mMNKrJT",
        "outputId": "c23f50b3-ecd6-4d30-fcd5-a5bee472a30d"
      },
      "outputs": [
        {
          "name": "stdout",
          "output_type": "stream",
          "text": [
            "<class 'pandas.core.frame.DataFrame'>\n",
            "RangeIndex: 6000 entries, 0 to 5999\n",
            "Columns: 129 entries, R1-PA1:VH to marker\n",
            "dtypes: float64(129)\n",
            "memory usage: 5.9 MB\n"
          ]
        }
      ],
      "source": [
        "binary_dataset_training.info()"
      ]
    },
    {
      "cell_type": "code",
      "execution_count": 29,
      "metadata": {
        "colab": {
          "base_uri": "https://localhost:8080/",
          "height": 349
        },
        "id": "46MGlzcFKsl7",
        "outputId": "16a48b03-f971-48b6-b52f-f54ec652a086"
      },
      "outputs": [
        {
          "data": {
            "text/html": [
              "<div>\n",
              "<style scoped>\n",
              "    .dataframe tbody tr th:only-of-type {\n",
              "        vertical-align: middle;\n",
              "    }\n",
              "\n",
              "    .dataframe tbody tr th {\n",
              "        vertical-align: top;\n",
              "    }\n",
              "\n",
              "    .dataframe thead th {\n",
              "        text-align: right;\n",
              "    }\n",
              "</style>\n",
              "<table border=\"1\" class=\"dataframe\">\n",
              "  <thead>\n",
              "    <tr style=\"text-align: right;\">\n",
              "      <th></th>\n",
              "      <th>R1-PA1:VH</th>\n",
              "      <th>R1-PM1:V</th>\n",
              "      <th>R1-PA2:VH</th>\n",
              "      <th>R1-PM2:V</th>\n",
              "      <th>R1-PA3:VH</th>\n",
              "      <th>R1-PM3:V</th>\n",
              "      <th>R1-PA4:IH</th>\n",
              "      <th>R1-PM4:I</th>\n",
              "      <th>R1-PA5:IH</th>\n",
              "      <th>R1-PM5:I</th>\n",
              "      <th>...</th>\n",
              "      <th>control_panel_log4</th>\n",
              "      <th>relay1_log</th>\n",
              "      <th>relay2_log</th>\n",
              "      <th>relay3_log</th>\n",
              "      <th>relay4_log</th>\n",
              "      <th>snort_log1</th>\n",
              "      <th>snort_log2</th>\n",
              "      <th>snort_log3</th>\n",
              "      <th>snort_log4</th>\n",
              "      <th>marker</th>\n",
              "    </tr>\n",
              "  </thead>\n",
              "  <tbody>\n",
              "    <tr>\n",
              "      <th>count</th>\n",
              "      <td>6000.000000</td>\n",
              "      <td>6000.000000</td>\n",
              "      <td>6000.000000</td>\n",
              "      <td>6000.000000</td>\n",
              "      <td>6000.000000</td>\n",
              "      <td>6000.000000</td>\n",
              "      <td>6000.000000</td>\n",
              "      <td>6000.000000</td>\n",
              "      <td>6000.000000</td>\n",
              "      <td>6000.000000</td>\n",
              "      <td>...</td>\n",
              "      <td>6000.0</td>\n",
              "      <td>6000.00000</td>\n",
              "      <td>6000.00000</td>\n",
              "      <td>6000.00000</td>\n",
              "      <td>6000.00000</td>\n",
              "      <td>6000.0</td>\n",
              "      <td>6000.0</td>\n",
              "      <td>6000.0</td>\n",
              "      <td>6000.0</td>\n",
              "      <td>6000.000000</td>\n",
              "    </tr>\n",
              "    <tr>\n",
              "      <th>mean</th>\n",
              "      <td>-5.202654</td>\n",
              "      <td>131234.652733</td>\n",
              "      <td>-7.046442</td>\n",
              "      <td>131354.068362</td>\n",
              "      <td>-2.883982</td>\n",
              "      <td>131643.033619</td>\n",
              "      <td>-5.208205</td>\n",
              "      <td>395.619562</td>\n",
              "      <td>-8.830131</td>\n",
              "      <td>393.325834</td>\n",
              "      <td>...</td>\n",
              "      <td>0.0</td>\n",
              "      <td>0.00100</td>\n",
              "      <td>0.00100</td>\n",
              "      <td>0.00100</td>\n",
              "      <td>0.00100</td>\n",
              "      <td>0.0</td>\n",
              "      <td>0.0</td>\n",
              "      <td>0.0</td>\n",
              "      <td>0.0</td>\n",
              "      <td>0.500000</td>\n",
              "    </tr>\n",
              "    <tr>\n",
              "      <th>std</th>\n",
              "      <td>102.007816</td>\n",
              "      <td>5745.200620</td>\n",
              "      <td>103.614201</td>\n",
              "      <td>1523.247980</td>\n",
              "      <td>104.973394</td>\n",
              "      <td>1631.541917</td>\n",
              "      <td>101.946391</td>\n",
              "      <td>123.451995</td>\n",
              "      <td>103.598504</td>\n",
              "      <td>81.175502</td>\n",
              "      <td>...</td>\n",
              "      <td>0.0</td>\n",
              "      <td>0.03161</td>\n",
              "      <td>0.03161</td>\n",
              "      <td>0.03161</td>\n",
              "      <td>0.03161</td>\n",
              "      <td>0.0</td>\n",
              "      <td>0.0</td>\n",
              "      <td>0.0</td>\n",
              "      <td>0.0</td>\n",
              "      <td>0.500042</td>\n",
              "    </tr>\n",
              "    <tr>\n",
              "      <th>min</th>\n",
              "      <td>-179.822804</td>\n",
              "      <td>30238.363620</td>\n",
              "      <td>-179.020663</td>\n",
              "      <td>109269.310700</td>\n",
              "      <td>-179.868641</td>\n",
              "      <td>106034.858800</td>\n",
              "      <td>-179.828534</td>\n",
              "      <td>5.310190</td>\n",
              "      <td>-179.559243</td>\n",
              "      <td>6.042630</td>\n",
              "      <td>...</td>\n",
              "      <td>0.0</td>\n",
              "      <td>0.00000</td>\n",
              "      <td>0.00000</td>\n",
              "      <td>0.00000</td>\n",
              "      <td>0.00000</td>\n",
              "      <td>0.0</td>\n",
              "      <td>0.0</td>\n",
              "      <td>0.0</td>\n",
              "      <td>0.0</td>\n",
              "      <td>0.000000</td>\n",
              "    </tr>\n",
              "    <tr>\n",
              "      <th>25%</th>\n",
              "      <td>-102.850222</td>\n",
              "      <td>131158.275400</td>\n",
              "      <td>-102.474934</td>\n",
              "      <td>130857.396100</td>\n",
              "      <td>-100.273344</td>\n",
              "      <td>131208.421900</td>\n",
              "      <td>-101.115592</td>\n",
              "      <td>321.541160</td>\n",
              "      <td>-104.062027</td>\n",
              "      <td>325.203360</td>\n",
              "      <td>...</td>\n",
              "      <td>0.0</td>\n",
              "      <td>0.00000</td>\n",
              "      <td>0.00000</td>\n",
              "      <td>0.00000</td>\n",
              "      <td>0.00000</td>\n",
              "      <td>0.0</td>\n",
              "      <td>0.0</td>\n",
              "      <td>0.0</td>\n",
              "      <td>0.0</td>\n",
              "      <td>0.000000</td>\n",
              "    </tr>\n",
              "    <tr>\n",
              "      <th>50%</th>\n",
              "      <td>-9.293375</td>\n",
              "      <td>131634.667500</td>\n",
              "      <td>-2.480907</td>\n",
              "      <td>131358.861500</td>\n",
              "      <td>-7.015868</td>\n",
              "      <td>131684.814000</td>\n",
              "      <td>-7.955519</td>\n",
              "      <td>394.968270</td>\n",
              "      <td>-6.505936</td>\n",
              "      <td>399.546020</td>\n",
              "      <td>...</td>\n",
              "      <td>0.0</td>\n",
              "      <td>0.00000</td>\n",
              "      <td>0.00000</td>\n",
              "      <td>0.00000</td>\n",
              "      <td>0.00000</td>\n",
              "      <td>0.0</td>\n",
              "      <td>0.0</td>\n",
              "      <td>0.0</td>\n",
              "      <td>0.0</td>\n",
              "      <td>0.500000</td>\n",
              "    </tr>\n",
              "    <tr>\n",
              "      <th>75%</th>\n",
              "      <td>74.531782</td>\n",
              "      <td>132060.913100</td>\n",
              "      <td>90.395551</td>\n",
              "      <td>131860.326900</td>\n",
              "      <td>88.338633</td>\n",
              "      <td>132136.132900</td>\n",
              "      <td>73.577808</td>\n",
              "      <td>452.281700</td>\n",
              "      <td>87.636760</td>\n",
              "      <td>455.806567</td>\n",
              "      <td>...</td>\n",
              "      <td>0.0</td>\n",
              "      <td>0.00000</td>\n",
              "      <td>0.00000</td>\n",
              "      <td>0.00000</td>\n",
              "      <td>0.00000</td>\n",
              "      <td>0.0</td>\n",
              "      <td>0.0</td>\n",
              "      <td>0.0</td>\n",
              "      <td>0.0</td>\n",
              "      <td>1.000000</td>\n",
              "    </tr>\n",
              "    <tr>\n",
              "      <th>max</th>\n",
              "      <td>179.215469</td>\n",
              "      <td>138579.963300</td>\n",
              "      <td>179.960314</td>\n",
              "      <td>138304.157300</td>\n",
              "      <td>179.960314</td>\n",
              "      <td>138630.109800</td>\n",
              "      <td>179.662376</td>\n",
              "      <td>1760.236430</td>\n",
              "      <td>179.920207</td>\n",
              "      <td>1094.265360</td>\n",
              "      <td>...</td>\n",
              "      <td>0.0</td>\n",
              "      <td>1.00000</td>\n",
              "      <td>1.00000</td>\n",
              "      <td>1.00000</td>\n",
              "      <td>1.00000</td>\n",
              "      <td>0.0</td>\n",
              "      <td>0.0</td>\n",
              "      <td>0.0</td>\n",
              "      <td>0.0</td>\n",
              "      <td>1.000000</td>\n",
              "    </tr>\n",
              "  </tbody>\n",
              "</table>\n",
              "<p>8 rows × 129 columns</p>\n",
              "</div>"
            ],
            "text/plain": [
              "         R1-PA1:VH       R1-PM1:V    R1-PA2:VH       R1-PM2:V    R1-PA3:VH  \\\n",
              "count  6000.000000    6000.000000  6000.000000    6000.000000  6000.000000   \n",
              "mean     -5.202654  131234.652733    -7.046442  131354.068362    -2.883982   \n",
              "std     102.007816    5745.200620   103.614201    1523.247980   104.973394   \n",
              "min    -179.822804   30238.363620  -179.020663  109269.310700  -179.868641   \n",
              "25%    -102.850222  131158.275400  -102.474934  130857.396100  -100.273344   \n",
              "50%      -9.293375  131634.667500    -2.480907  131358.861500    -7.015868   \n",
              "75%      74.531782  132060.913100    90.395551  131860.326900    88.338633   \n",
              "max     179.215469  138579.963300   179.960314  138304.157300   179.960314   \n",
              "\n",
              "            R1-PM3:V    R1-PA4:IH     R1-PM4:I    R1-PA5:IH     R1-PM5:I  ...  \\\n",
              "count    6000.000000  6000.000000  6000.000000  6000.000000  6000.000000  ...   \n",
              "mean   131643.033619    -5.208205   395.619562    -8.830131   393.325834  ...   \n",
              "std      1631.541917   101.946391   123.451995   103.598504    81.175502  ...   \n",
              "min    106034.858800  -179.828534     5.310190  -179.559243     6.042630  ...   \n",
              "25%    131208.421900  -101.115592   321.541160  -104.062027   325.203360  ...   \n",
              "50%    131684.814000    -7.955519   394.968270    -6.505936   399.546020  ...   \n",
              "75%    132136.132900    73.577808   452.281700    87.636760   455.806567  ...   \n",
              "max    138630.109800   179.662376  1760.236430   179.920207  1094.265360  ...   \n",
              "\n",
              "       control_panel_log4  relay1_log  relay2_log  relay3_log  relay4_log  \\\n",
              "count              6000.0  6000.00000  6000.00000  6000.00000  6000.00000   \n",
              "mean                  0.0     0.00100     0.00100     0.00100     0.00100   \n",
              "std                   0.0     0.03161     0.03161     0.03161     0.03161   \n",
              "min                   0.0     0.00000     0.00000     0.00000     0.00000   \n",
              "25%                   0.0     0.00000     0.00000     0.00000     0.00000   \n",
              "50%                   0.0     0.00000     0.00000     0.00000     0.00000   \n",
              "75%                   0.0     0.00000     0.00000     0.00000     0.00000   \n",
              "max                   0.0     1.00000     1.00000     1.00000     1.00000   \n",
              "\n",
              "       snort_log1  snort_log2  snort_log3  snort_log4       marker  \n",
              "count      6000.0      6000.0      6000.0      6000.0  6000.000000  \n",
              "mean          0.0         0.0         0.0         0.0     0.500000  \n",
              "std           0.0         0.0         0.0         0.0     0.500042  \n",
              "min           0.0         0.0         0.0         0.0     0.000000  \n",
              "25%           0.0         0.0         0.0         0.0     0.000000  \n",
              "50%           0.0         0.0         0.0         0.0     0.500000  \n",
              "75%           0.0         0.0         0.0         0.0     1.000000  \n",
              "max           0.0         0.0         0.0         0.0     1.000000  \n",
              "\n",
              "[8 rows x 129 columns]"
            ]
          },
          "execution_count": 29,
          "metadata": {},
          "output_type": "execute_result"
        }
      ],
      "source": [
        "binary_dataset_training.describe()"
      ]
    },
    {
      "cell_type": "code",
      "execution_count": 30,
      "metadata": {
        "colab": {
          "base_uri": "https://localhost:8080/",
          "height": 497
        },
        "id": "iGT36-__K_ED",
        "outputId": "c705a3e0-20fb-47bc-c9f5-d9af87ae2f20"
      },
      "outputs": [
        {
          "name": "stdout",
          "output_type": "stream",
          "text": [
            "marker\n",
            "0.0    3000\n",
            "1.0    3000\n",
            "Name: count, dtype: int64\n"
          ]
        },
        {
          "data": {
            "text/plain": [
              "<Axes: >"
            ]
          },
          "execution_count": 30,
          "metadata": {},
          "output_type": "execute_result"
        },
        {
          "data": {
            "image/png": "[encoded data removed]",
            "text/plain": [
              "<Figure size 640x480 with 1 Axes>"
            ]
          },
          "metadata": {},
          "output_type": "display_data"
        }
      ],
      "source": [
        "print(binary_Y_training.value_counts())\n",
        "\n",
        "binary_Y_training.value_counts().plot(kind = 'pie', title = '', ylabel = '', autopct = '%1.1f%%', colors = ['#66b3ff','#99ff99', '#fcad27'])"
      ]
    },
    {
      "cell_type": "markdown",
      "metadata": {
        "id": "041Z4vIiLWDJ"
      },
      "source": [
        "### Standardising Data"
      ]
    },
    {
      "cell_type": "code",
      "execution_count": 31,
      "metadata": {
        "id": "gHlyuSaULK44"
      },
      "outputs": [],
      "source": [
        "# scale data on training set, then transform dataset from training set and testing set\n",
        "scaler = StandardScaler()\n",
        "binary_X_training = scaler.fit_transform(binary_X_training)\n",
        "binary_X_training = pd.DataFrame(binary_X_training)\n",
        "binary_X_testing = scaler.transform(binary_X_testing)\n",
        "binary_X_testing = pd.DataFrame(binary_X_testing)"
      ]
    },
    {
      "cell_type": "markdown",
      "metadata": {
        "id": "VUqI-irAPG-a"
      },
      "source": [
        "### Setup Validation Set"
      ]
    },
    {
      "cell_type": "code",
      "execution_count": 32,
      "metadata": {
        "id": "LsSYRULsPIHq"
      },
      "outputs": [],
      "source": [
        "# further split dataset to training set and validation set\n",
        "binary_X_training, binary_X_validation, binary_Y_training, binary_Y_validation = train_test_split(\n",
        "    binary_X_training, binary_Y_training, test_size = .2, random_state = 42\n",
        ")"
      ]
    },
    {
      "cell_type": "markdown",
      "metadata": {
        "id": "WRfZCpAgKBRX"
      },
      "source": [
        "## ML Training"
      ]
    },
    {
      "cell_type": "code",
      "execution_count": 33,
      "metadata": {
        "colab": {
          "base_uri": "https://localhost:8080/"
        },
        "id": "IvRB86pSKBRY",
        "outputId": "3a458dff-081a-4cf9-b7ba-e935eb6000d7"
      },
      "outputs": [
        {
          "name": "stdout",
          "output_type": "stream",
          "text": [
            "Fitting 10 folds for each of 36 candidates, totalling 360 fits\n",
            "Best hyperparameters:  {'criterion': 'entropy', 'min_samples_split': 2, 'n_estimators': 150}\n"
          ]
        }
      ],
      "source": [
        "from sklearn.model_selection import GridSearchCV\n",
        "\n",
        "from sklearn.ensemble import RandomForestClassifier\n",
        "\n",
        "# EDIT PARAMETERS HERE\n",
        "parameter_grid_binary = {\n",
        "    'n_estimators'      : [50, 100, 150, 200],\n",
        "    'criterion'         : ['gini', 'entropy', 'log_loss'],\n",
        "    'min_samples_split' : [2, 5, 10]\n",
        "}\n",
        "\n",
        "# RandomForest classifier is used to predict validation and test set\n",
        "grid_search_binary = GridSearchCV(estimator = RandomForestClassifier(random_state = 42), param_grid = parameter_grid_binary, scoring = 'f1_macro', cv = 10, n_jobs = 3, verbose = 2)\n",
        "grid_search_binary.fit(binary_X_training, binary_Y_training)\n",
        "\n",
        "print(\"Best hyperparameters: \", grid_search_binary.best_params_)"
      ]
    },
    {
      "cell_type": "markdown",
      "metadata": {
        "id": "xWMwOzuGKBRY"
      },
      "source": [
        "## Training Evaluation"
      ]
    },
    {
      "cell_type": "code",
      "execution_count": 34,
      "metadata": {
        "colab": {
          "base_uri": "https://localhost:8080/",
          "height": 762
        },
        "id": "Ds-Ep-tlKBRY",
        "outputId": "1fa7a813-a166-487a-a0ca-d578308cb41a"
      },
      "outputs": [
        {
          "data": {
            "image/png": "[encoded data removed]",
            "text/plain": [
              "<Figure size 640x480 with 2 Axes>"
            ]
          },
          "metadata": {},
          "output_type": "display_data"
        },
        {
          "name": "stdout",
          "output_type": "stream",
          "text": [
            "\n",
            "Accuracy score: 0.983\n",
            "F1-score: 0.983\n",
            "\n",
            "Precision score: 0.980\n",
            "Recall score: 0.985\n",
            "\n",
            "                precision    recall  f1-score   support\n",
            "\n",
            "        Normal       0.98      0.98      0.98       589\n",
            "Data Injection       0.98      0.99      0.98       611\n",
            "\n",
            "      accuracy                           0.98      1200\n",
            "     macro avg       0.98      0.98      0.98      1200\n",
            "  weighted avg       0.98      0.98      0.98      1200\n",
            "\n",
            "\n"
          ]
        }
      ],
      "source": [
        "import matplotlib.pyplot as plt\n",
        "\n",
        "from sklearn.metrics import (\n",
        "    confusion_matrix,\n",
        "    ConfusionMatrixDisplay,\n",
        "    classification_report,\n",
        "    accuracy_score,\n",
        "    f1_score,\n",
        "    precision_score,\n",
        "    recall_score,\n",
        ")\n",
        "\n",
        "# method to print classification metrics as well as generate a confusion matrix\n",
        "# display from testing on validation set\n",
        "def print_metrics(Y_test, predicted, labels):\n",
        "    ConfusionMatrixDisplay(confusion_matrix(Y_test, predicted), display_labels = labels).plot()\n",
        "\n",
        "    plt.show()\n",
        "\n",
        "    print()\n",
        "\n",
        "    print(\"Accuracy score: %.3f\" % accuracy_score(Y_test, predicted))\n",
        "\n",
        "    if (len(labels) > 2):\n",
        "        print(\"F1-score: %.3f\" % f1_score(Y_test, predicted, average = 'macro'))\n",
        "\n",
        "        print()\n",
        "\n",
        "        print(\"Precision score: %.3f\" % precision_score(Y_test, predicted, average = 'macro'))\n",
        "        print(\"Recall score: %.3f\" % recall_score(Y_test, predicted, average = 'macro'))\n",
        "\n",
        "    else:\n",
        "        print(\"F1-score: %.3f\" % f1_score(Y_test, predicted))\n",
        "\n",
        "        print()\n",
        "\n",
        "        print(\"Precision score: %.3f\" % precision_score(Y_test, predicted))\n",
        "        print(\"Recall score: %.3f\" % recall_score(Y_test, predicted))\n",
        "\n",
        "    print()\n",
        "\n",
        "    print(classification_report(Y_test, predicted, target_names = labels))\n",
        "\n",
        "    print()\n",
        "\n",
        "print_metrics(binary_Y_training, grid_search_binary.predict(binary_X_training), ['Normal', 'Data Injection'])"
      ]
    },
    {
      "cell_type": "markdown",
      "metadata": {
        "id": "Ur4KJS6dPR7K"
      },
      "source": [
        "## Output Test Set"
      ]
    },
    {
      "cell_type": "code",
      "execution_count": 35,
      "metadata": {
        "id": "xOniMV6zKBRY"
      },
      "outputs": [],
      "source": [
        "# output prediction on test set\n",
        "output_data = pd.read_csv('TestingDataBinary.csv')\n",
        "binary_Y_testing = grid_search_binary.predict(binary_X_testing)\n",
        "output_data.join(pd.DataFrame(binary_Y_testing, columns = ['marker'])).to_csv('TestingResultsBinary.csv', index = False)"
      ]
    }
  ],
  "metadata": {
    "colab": {
      "collapsed_sections": [
        "OOZNwiTCLQmU"
      ],
      "provenance": []
    },
    "kernelspec": {
      "display_name": "Python 3",
      "name": "python3"
    },
    "language_info": {
      "codemirror_mode": {
        "name": "ipython",
        "version": 3
      },
      "file_extension": ".py",
      "mimetype": "text/x-python",
      "name": "python",
      "nbconvert_exporter": "python",
      "pygments_lexer": "ipython3",
      "version": "3.9.13"
    }
  },
  "nbformat": 4,
  "nbformat_minor": 0
}

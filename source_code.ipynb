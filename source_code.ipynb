{
  "cells": [
    {
      "cell_type": "markdown",
      "metadata": {
        "colab_type": "text",
        "id": "view-in-github"
      },
      "source": [
        "<a href=\"https://colab.research.google.com/github/dopedud/COMP3217-CW2/blob/main/source_code.ipynb\" target=\"_parent\"><img src=\"https://colab.research.google.com/assets/colab-badge.svg\" alt=\"Open In Colab\"/></a>"
      ]
    },
    {
      "cell_type": "markdown",
      "metadata": {
        "id": "bQOImgj1mXFp"
      },
      "source": [
        "# COMP3217 COURSEWORK 2"
      ]
    },
    {
      "cell_type": "markdown",
      "metadata": {},
      "source": [
        "# Import Modules"
      ]
    },
    {
      "cell_type": "code",
      "execution_count": 37,
      "metadata": {
        "id": "QwT8fuKnl0Jk"
      },
      "outputs": [],
      "source": [
        "import numpy as np\n",
        "import pandas as pd"
      ]
    },
    {
      "cell_type": "markdown",
      "metadata": {},
      "source": [
        "## Read Files"
      ]
    },
    {
      "cell_type": "code",
      "execution_count": 38,
      "metadata": {
        "colab": {
          "base_uri": "https://localhost:8080/",
          "height": 315
        },
        "id": "yyC0y3AKpFEh",
        "outputId": "0ee63518-5ff1-4e7b-93d8-b122892d8fe4"
      },
      "outputs": [
        {
          "name": "stdout",
          "output_type": "stream",
          "text": [
            "<class 'pandas.core.frame.DataFrame'>\n",
            "RangeIndex: 6000 entries, 0 to 5999\n",
            "Columns: 129 entries, R1-PA1:VH    to marker\n",
            "dtypes: float64(129)\n",
            "memory usage: 5.9 MB\n",
            "<class 'pandas.core.frame.DataFrame'>\n",
            "RangeIndex: 6000 entries, 0 to 5999\n",
            "Columns: 129 entries, R1-PA1:VH    to marker\n",
            "dtypes: float64(129)\n",
            "memory usage: 5.9 MB\n"
          ]
        }
      ],
      "source": [
        "binary_dataset_training = pd.read_csv('TrainingDataBinary.csv')\n",
        "binary_X_testing = pd.read_csv('TestingDataBinary.csv')\n",
        "\n",
        "multi_dataset_training = pd.read_csv('TrainingDataMulti.csv')\n",
        "multi_X_testing = pd.read_csv('TestingDataMulti.csv')\n",
        "\n",
        "binary_dataset_training.info()\n",
        "multi_dataset_training.info()"
      ]
    },
    {
      "cell_type": "code",
      "execution_count": 39,
      "metadata": {},
      "outputs": [
        {
          "data": {
            "text/plain": [
              "count    6000.000000\n",
              "mean        0.500000\n",
              "std         0.500042\n",
              "min         0.000000\n",
              "25%         0.000000\n",
              "50%         0.500000\n",
              "75%         1.000000\n",
              "max         1.000000\n",
              "Name: marker, dtype: float64"
            ]
          },
          "execution_count": 39,
          "metadata": {},
          "output_type": "execute_result"
        }
      ],
      "source": [
        "binary_dataset_training['marker'].describe()"
      ]
    },
    {
      "cell_type": "code",
      "execution_count": 40,
      "metadata": {},
      "outputs": [
        {
          "data": {
            "text/plain": [
              "count    6000.000000\n",
              "mean        1.000000\n",
              "std         0.816565\n",
              "min         0.000000\n",
              "25%         0.000000\n",
              "50%         1.000000\n",
              "75%         2.000000\n",
              "max         2.000000\n",
              "Name: marker, dtype: float64"
            ]
          },
          "execution_count": 40,
          "metadata": {},
          "output_type": "execute_result"
        }
      ],
      "source": [
        "multi_dataset_training['marker'].describe()"
      ]
    },
    {
      "cell_type": "markdown",
      "metadata": {},
      "source": [
        "## Seperate Features and Labels"
      ]
    },
    {
      "cell_type": "code",
      "execution_count": 41,
      "metadata": {},
      "outputs": [],
      "source": [
        "binary_X_training = binary_dataset_training.iloc[:, :-1]\n",
        "binary_Y_training = binary_dataset_training.iloc[:, -1]\n",
        "\n",
        "multi_X_training = multi_dataset_training.iloc[:, :-1]\n",
        "multi_Y_training = multi_dataset_training.iloc[:, -1]"
      ]
    },
    {
      "cell_type": "markdown",
      "metadata": {},
      "source": [
        "## ML Training"
      ]
    },
    {
      "cell_type": "code",
      "execution_count": 42,
      "metadata": {},
      "outputs": [],
      "source": [
        "from sklearn.model_selection import GridSearchCV\n",
        "\n",
        "from sklearn.svm import SVC"
      ]
    },
    {
      "cell_type": "code",
      "execution_count": 43,
      "metadata": {
        "tags": []
      },
      "outputs": [],
      "source": [
        "from sklearn.dummy import DummyClassifier\n",
        "\n",
        "clf_binary = DummyClassifier(strategy = 'uniform')\n",
        "clf_multi = DummyClassifier(strategy = 'uniform')"
      ]
    },
    {
      "cell_type": "code",
      "execution_count": 44,
      "metadata": {},
      "outputs": [],
      "source": [
        "# clf_binary = SVC()\n",
        "# clf_multi = SVC()\n",
        "\n",
        "clf_binary.fit(binary_X_training, binary_Y_training)\n",
        "binary_Y_testing = clf_binary.predict(binary_X_testing)\n",
        "\n",
        "clf_multi.fit(multi_X_training, multi_Y_training)\n",
        "multi_Y_testing = clf_multi.predict(multi_X_testing)"
      ]
    },
    {
      "cell_type": "code",
      "execution_count": 45,
      "metadata": {},
      "outputs": [],
      "source": [
        "# parameter_grid_binary = {\n",
        "#     \"clf__kernel\"       : ['linear', 'poly', 'rbf'],\n",
        "# }\n",
        "\n",
        "# grid_search_binary = GridSearchCV(estimator = clf_binary, param_grid = parameter_grid_binary, \n",
        "#                                   cv = 10, n_jobs = 3, verbose = 2)\n",
        "\n",
        "# parameter_grid_multi = {\n",
        "#     \"clf__kernel\"       : ['linear', 'poly', 'rbf'],\n",
        "# }\n",
        "\n",
        "# grid_search_multi = GridSearchCV(estimator = clf_multi, param_grid = parameter_grid_multi, \n",
        "#                                   cv = 10, n_jobs = 3, verbose = 2)\n",
        "\n",
        "# grid_search_binary.fit(binary_X_training, binary_Y_training)\n",
        "# tuned_binary_Y_testing = grid_search_binary.predict(binary_X_testing)\n",
        "\n",
        "# grid_search_multi.fit(multi_X_training, multi_Y_training)\n",
        "# tuned_multi_Y_testing = grid_search_multi.predict(multi_X_testing)"
      ]
    },
    {
      "cell_type": "markdown",
      "metadata": {},
      "source": [
        "## Training Evaluation"
      ]
    },
    {
      "cell_type": "code",
      "execution_count": 46,
      "metadata": {},
      "outputs": [
        {
          "data": {
            "image/png": "[encoded data removed]",
            "text/plain": [
              "<Figure size 640x480 with 2 Axes>"
            ]
          },
          "metadata": {},
          "output_type": "display_data"
        },
        {
          "name": "stdout",
          "output_type": "stream",
          "text": [
            "\n",
            "Accuracy score: 0.500\n",
            "F1-score: 0.502\n",
            "\n",
            "Precision score: 0.500\n",
            "Recall score: 0.504\n",
            "\n",
            "                precision    recall  f1-score   support\n",
            "\n",
            "        Normal       0.50      0.50      0.50      3000\n",
            "Data Injection       0.50      0.50      0.50      3000\n",
            "\n",
            "      accuracy                           0.50      6000\n",
            "     macro avg       0.50      0.50      0.50      6000\n",
            "  weighted avg       0.50      0.50      0.50      6000\n",
            "\n",
            "\n"
          ]
        },
        {
          "data": {
            "image/png": "[encoded data removed]",
            "text/plain": [
              "<Figure size 640x480 with 2 Axes>"
            ]
          },
          "metadata": {},
          "output_type": "display_data"
        },
        {
          "name": "stdout",
          "output_type": "stream",
          "text": [
            "\n",
            "Accuracy score: 0.340\n",
            "F1-score: 0.340\n",
            "\n",
            "Precision score: 0.340\n",
            "Recall score: 0.340\n",
            "\n",
            "                   precision    recall  f1-score   support\n",
            "\n",
            "           Normal       0.34      0.34      0.34      2000\n",
            "   Data Injection       0.33      0.33      0.33      2000\n",
            "Command Injection       0.35      0.35      0.35      2000\n",
            "\n",
            "         accuracy                           0.34      6000\n",
            "        macro avg       0.34      0.34      0.34      6000\n",
            "     weighted avg       0.34      0.34      0.34      6000\n",
            "\n",
            "\n"
          ]
        }
      ],
      "source": [
        "import matplotlib.pyplot as plt\n",
        "\n",
        "from sklearn.metrics import (\n",
        "    confusion_matrix,\n",
        "    ConfusionMatrixDisplay,\n",
        "    classification_report,\n",
        "    accuracy_score,\n",
        "    f1_score,\n",
        "    precision_score,\n",
        "    recall_score,\n",
        ")\n",
        "\n",
        "def print_metrics(Y_test, predicted, labels):\n",
        "    ConfusionMatrixDisplay(confusion_matrix(Y_test, predicted), display_labels = labels).plot()\n",
        "    \n",
        "    plt.show()\n",
        "    \n",
        "    print()\n",
        "\n",
        "    print(\"Accuracy score: %.3f\" % accuracy_score(Y_test, predicted))\n",
        "\n",
        "    if (len(labels) > 2):\n",
        "        print(\"F1-score: %.3f\" % f1_score(Y_test, predicted, average = 'macro'))\n",
        "\n",
        "        print()\n",
        "\n",
        "        print(\"Precision score: %.3f\" % precision_score(Y_test, predicted, average = 'macro'))\n",
        "        print(\"Recall score: %.3f\" % recall_score(Y_test, predicted, average = 'macro'))\n",
        "\n",
        "    else:\n",
        "        print(\"F1-score: %.3f\" % f1_score(Y_test, predicted))\n",
        "\n",
        "        print()\n",
        "\n",
        "        print(\"Precision score: %.3f\" % precision_score(Y_test, predicted))\n",
        "        print(\"Recall score: %.3f\" % recall_score(Y_test, predicted))\n",
        "\n",
        "    print()\n",
        "\n",
        "    print(classification_report(Y_test, predicted, target_names = labels))\n",
        "\n",
        "    print()\n",
        "\n",
        "print_metrics(binary_Y_training, clf_binary.predict(binary_X_training), ['Normal', 'Data Injection'])\n",
        "print_metrics(multi_Y_training, clf_multi.predict(multi_X_training), ['Normal', 'Data Injection', 'Command Injection'])"
      ]
    },
    {
      "cell_type": "code",
      "execution_count": 47,
      "metadata": {},
      "outputs": [],
      "source": [
        "# binary_X_testing.join(pd.DataFrame(binary_Y_testing, columns = ['marker'])).to_csv('TestingResultsBinary.csv', index = False)\n",
        "# multi_X_testing.join(pd.DataFrame(multi_Y_testing, columns = ['marker'])).to_csv('TestingResultsMulti.csv', index = False)"
      ]
    }
  ],
  "metadata": {
    "colab": {
      "authorship_tag": "ABX9TyNPOHw326VjcF8BY88wryiy",
      "include_colab_link": true,
      "provenance": []
    },
    "kernelspec": {
      "display_name": "Python 3",
      "name": "python3"
    },
    "language_info": {
      "codemirror_mode": {
        "name": "ipython",
        "version": 3
      },
      "file_extension": ".py",
      "mimetype": "text/x-python",
      "name": "python",
      "nbconvert_exporter": "python",
      "pygments_lexer": "ipython3",
      "version": "3.9.13"
    }
  },
  "nbformat": 4,
  "nbformat_minor": 0
}

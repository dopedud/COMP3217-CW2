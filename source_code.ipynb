{
  "cells": [
    {
      "cell_type": "markdown",
      "metadata": {
        "colab_type": "text",
        "id": "view-in-github"
      },
      "source": [
        "<a href=\"https://colab.research.google.com/github/dopedud/COMP3217-CW2/blob/main/source_code.ipynb\" target=\"_parent\"><img src=\"https://colab.research.google.com/assets/colab-badge.svg\" alt=\"Open In Colab\"/></a>"
      ]
    },
    {
      "cell_type": "markdown",
      "metadata": {
        "id": "bQOImgj1mXFp"
      },
      "source": [
        "# COMP3217 COURSEWORK 2"
      ]
    },
    {
      "cell_type": "markdown",
      "metadata": {},
      "source": [
        "# Import Modules"
      ]
    },
    {
      "cell_type": "code",
      "execution_count": 5,
      "metadata": {
        "id": "QwT8fuKnl0Jk"
      },
      "outputs": [],
      "source": [
        "import numpy as np\n",
        "import pandas as pd"
      ]
    },
    {
      "cell_type": "markdown",
      "metadata": {},
      "source": [
        "## Read Files"
      ]
    },
    {
      "cell_type": "code",
      "execution_count": 6,
      "metadata": {
        "colab": {
          "base_uri": "https://localhost:8080/",
          "height": 315
        },
        "id": "yyC0y3AKpFEh",
        "outputId": "0ee63518-5ff1-4e7b-93d8-b122892d8fe4"
      },
      "outputs": [],
      "source": [
        "binary_dataset_training = pd.read_csv('TrainingDataBinary.csv')\n",
        "binary_X_testing = pd.read_csv('TestingDataBinary.csv')\n",
        "\n",
        "multi_dataset_training = pd.read_csv('TrainingDataMulti.csv')\n",
        "multi_X_testing = pd.read_csv('TestingDataMulti.csv')"
      ]
    },
    {
      "cell_type": "markdown",
      "metadata": {},
      "source": [
        "## Seperate Features and Labels"
      ]
    },
    {
      "cell_type": "code",
      "execution_count": 7,
      "metadata": {},
      "outputs": [],
      "source": [
        "binary_X_training = binary_dataset_training.iloc[:, :-1]\n",
        "binary_Y_training = binary_dataset_training.iloc[:, -1]\n",
        "\n",
        "multi_X_training = multi_dataset_training.iloc[:, :-1]\n",
        "multi_Y_training = multi_dataset_training.iloc[:, -1]"
      ]
    },
    {
      "cell_type": "markdown",
      "metadata": {},
      "source": [
        "## ML Training"
      ]
    },
    {
      "cell_type": "code",
      "execution_count": 8,
      "metadata": {},
      "outputs": [],
      "source": [
        "from sklearn.dummy import DummyClassifier\n",
        "from sklearn.svm import SVC\n",
        "\n",
        "clf_binary = DummyClassifier(strategy = 'uniform')\n",
        "clf_multi = DummyClassifier(strategy = 'uniform')\n",
        "\n",
        "clf_binary.fit(binary_X_training, binary_Y_training)\n",
        "binary_Y_testing = clf_binary.predict(binary_X_testing)\n",
        "\n",
        "clf_multi.fit(multi_X_training, multi_Y_training)\n",
        "multi_Y_testing = clf_multi.predict(multi_X_testing)\n",
        "\n",
        "binary_X_testing.join(pd.DataFrame(binary_Y_testing, columns = ['marker'])).to_csv('TestingResultsBinary.csv', index = False)\n",
        "multi_X_testing.join(pd.DataFrame(multi_Y_testing, columns = ['marker'])).to_csv('TestingResultsMultis.csv', index = False)"
      ]
    },
    {
      "cell_type": "markdown",
      "metadata": {},
      "source": [
        "## Training Evaluation"
      ]
    },
    {
      "cell_type": "code",
      "execution_count": null,
      "metadata": {},
      "outputs": [],
      "source": []
    }
  ],
  "metadata": {
    "colab": {
      "authorship_tag": "ABX9TyNPOHw326VjcF8BY88wryiy",
      "include_colab_link": true,
      "provenance": []
    },
    "kernelspec": {
      "display_name": "Python 3",
      "name": "python3"
    },
    "language_info": {
      "codemirror_mode": {
        "name": "ipython",
        "version": 3
      },
      "file_extension": ".py",
      "mimetype": "text/x-python",
      "name": "python",
      "nbconvert_exporter": "python",
      "pygments_lexer": "ipython3",
      "version": "3.9.13"
    }
  },
  "nbformat": 4,
  "nbformat_minor": 0
}
